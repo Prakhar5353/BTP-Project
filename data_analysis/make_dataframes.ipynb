{
 "cells": [
  {
   "cell_type": "code",
   "execution_count": 1,
   "id": "c75ef172",
   "metadata": {},
   "outputs": [],
   "source": [
    "import numpy as np\n",
    "import pandas as pd\n",
    "import pylhe as pl\n",
    "import awkward as ak"
   ]
  },
  {
   "cell_type": "code",
   "execution_count": 24,
   "id": "f46b16f1",
   "metadata": {},
   "outputs": [],
   "source": [
    "data = \"events_dm.lhe\"\n",
    "sig = pl.to_awkward(pl.read_lhe_with_attributes(data))"
   ]
  },
  {
   "cell_type": "code",
   "execution_count": 25,
   "id": "b36a9c17",
   "metadata": {},
   "outputs": [
    {
     "name": "stdout",
     "output_type": "stream",
     "text": [
      "10000\n"
     ]
    }
   ],
   "source": [
    "n_s = pl.read_num_events(data)\n",
    "print(n_s)"
   ]
  },
  {
   "cell_type": "code",
   "execution_count": 26,
   "id": "4fe05985",
   "metadata": {},
   "outputs": [
    {
     "data": {
      "text/plain": [
       "['vector',\n",
       " 'id',\n",
       " 'status',\n",
       " 'mother1',\n",
       " 'mother2',\n",
       " 'color1',\n",
       " 'color2',\n",
       " 'm',\n",
       " 'lifetime',\n",
       " 'spin']"
      ]
     },
     "execution_count": 26,
     "metadata": {},
     "output_type": "execute_result"
    }
   ],
   "source": [
    "sig.particles.fields"
   ]
  },
  {
   "cell_type": "code",
   "execution_count": 27,
   "id": "e9d2578b",
   "metadata": {},
   "outputs": [],
   "source": [
    "s_df = pd.DataFrame(columns=['px', 'py', 'pz', 'E'])\n",
    "s_rows = []\n",
    "for event in range(n_s):\n",
    "    px = sig[event]['particles']['vector']['x'][-1]\n",
    "    py = sig[event]['particles']['vector']['y'][-1]\n",
    "    pz = sig[event]['particles']['vector']['z'][-1]\n",
    "    E  = sig[event]['particles']['vector']['t'][-1]\n",
    "    row = {'px': px, 'py': py, 'pz': pz, 'E': E}\n",
    "    s_rows.append(row)\n",
    "s_df = pd.DataFrame(s_rows)"
   ]
  },
  {
   "cell_type": "code",
   "execution_count": 28,
   "id": "0012f309",
   "metadata": {},
   "outputs": [],
   "source": [
    "px = np.array(s_df['px'])\n",
    "py = np.array(s_df['py'])\n",
    "pz = np.array(s_df['pz'])\n",
    "en = np.array(s_df['E'])"
   ]
  },
  {
   "cell_type": "code",
   "execution_count": 29,
   "id": "c32f042f",
   "metadata": {},
   "outputs": [],
   "source": [
    "s_df['pt'] = np.sqrt(px**2+py**2)\n",
    "s_df['cosphi'] = px/s_df['pt']\n",
    "s_df['mis_e'] = 2*12-en\n",
    "s_df['costheta'] = pz/en\n",
    "s_df['eta'] = -0.5*np.log((en+pz)/(en-pz))"
   ]
  },
  {
   "cell_type": "code",
   "execution_count": 30,
   "id": "4c52b005",
   "metadata": {},
   "outputs": [],
   "source": [
    "s_df.to_csv('signal.csv')"
   ]
  },
  {
   "cell_type": "code",
   "execution_count": 31,
   "id": "dde6c2ea",
   "metadata": {},
   "outputs": [],
   "source": [
    "data = \"bkg.lhe\"\n",
    "sig = pl.to_awkward(pl.read_lhe_with_attributes(data))\n",
    "s_df = pd.DataFrame(columns=['px', 'py', 'pz', 'E'])\n",
    "s_rows = []\n",
    "for event in range(n_s):\n",
    "    px = sig[event]['particles']['vector']['x'][-1]\n",
    "    py = sig[event]['particles']['vector']['y'][-1]\n",
    "    pz = sig[event]['particles']['vector']['z'][-1]\n",
    "    E  = sig[event]['particles']['vector']['t'][-1]\n",
    "    row = {'px': px, 'py': py, 'pz': pz, 'E': E}\n",
    "    s_rows.append(row)\n",
    "s_df = pd.DataFrame(s_rows)"
   ]
  },
  {
   "cell_type": "code",
   "execution_count": 32,
   "id": "f8e892fb",
   "metadata": {},
   "outputs": [],
   "source": [
    "px = np.array(s_df['px'])\n",
    "py = np.array(s_df['py'])\n",
    "pz = np.array(s_df['pz'])\n",
    "en = np.array(s_df['E'])\n",
    "s_df['pt'] = np.sqrt(px**2+py**2)\n",
    "s_df['cosphi'] = px/s_df['pt']\n",
    "s_df['mis_e'] = 2*12-en\n",
    "s_df['costheta'] = pz/en\n",
    "s_df['eta'] = -0.5*np.log((en+pz)/(en-pz))"
   ]
  },
  {
   "cell_type": "code",
   "execution_count": 33,
   "id": "c6fca398",
   "metadata": {},
   "outputs": [],
   "source": [
    "s_df.to_csv('background.csv')"
   ]
  },
  {
   "cell_type": "code",
   "execution_count": null,
   "id": "622e795f",
   "metadata": {},
   "outputs": [],
   "source": []
  }
 ],
 "metadata": {
  "kernelspec": {
   "display_name": "Python 3 (ipykernel)",
   "language": "python",
   "name": "python3"
  },
  "language_info": {
   "codemirror_mode": {
    "name": "ipython",
    "version": 3
   },
   "file_extension": ".py",
   "mimetype": "text/x-python",
   "name": "python",
   "nbconvert_exporter": "python",
   "pygments_lexer": "ipython3",
   "version": "3.9.12"
  }
 },
 "nbformat": 4,
 "nbformat_minor": 5
}
